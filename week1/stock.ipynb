{
 "cells": [
  {
   "cell_type": "code",
   "execution_count": 3,
   "metadata": {},
   "outputs": [
    {
     "data": {
      "text/plain": [
       "(138, 112)"
      ]
     },
     "execution_count": 3,
     "metadata": {},
     "output_type": "execute_result"
    }
   ],
   "source": [
    "import pandas_datareader.data as web\n",
    "import pandas as pd\n",
    "import datetime\n",
    "import numpy as np\n",
    "\n",
    "def alibaba():\n",
    "    start = datetime.datetime(2017,1,1)\n",
    "    end = datetime.datetime(2017, 12, 31)\n",
    "    df_year_2017 = web.DataReader('BABA', 'yahoo', start, end)\n",
    "    year_2017_close = df_year_2017.Close\n",
    "    log_change = np.log(year_2017_close) - np.log(year_2017_close.shift(1))\n",
    "    rise = (log_change > 0).sum()\n",
    "    fall = (log_change < 0).sum()\n",
    "    return rise, fall\n",
    "alibaba()"
   ]
  },
  {
   "cell_type": "code",
   "execution_count": null,
   "metadata": {},
   "outputs": [],
   "source": []
  }
 ],
 "metadata": {
  "kernelspec": {
   "display_name": "Python 3",
   "language": "python",
   "name": "python3"
  },
  "language_info": {
   "codemirror_mode": {
    "name": "ipython",
    "version": 3
   },
   "file_extension": ".py",
   "mimetype": "text/x-python",
   "name": "python",
   "nbconvert_exporter": "python",
   "pygments_lexer": "ipython3",
   "version": "3.5.2"
  }
 },
 "nbformat": 4,
 "nbformat_minor": 2
}
